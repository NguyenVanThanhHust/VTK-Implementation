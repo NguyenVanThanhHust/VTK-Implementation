{
 "cells": [
  {
   "cell_type": "code",
   "execution_count": 1,
   "metadata": {
    "collapsed": true
   },
   "outputs": [],
   "source": [
    "import copy\n",
    "import numpy as np\n",
    "from open3d import *"
   ]
  },
  {
   "cell_type": "code",
   "execution_count": 2,
   "metadata": {
    "collapsed": false
   },
   "outputs": [
    {
     "name": "stdout",
     "output_type": "stream",
     "text": [
      "Testing mesh in Open3d\n",
      "TriangleMesh with 1440 points and 2880 triangles.\n",
      "[[  4.51268387  28.68865967 -76.55680847]\n",
      " [  7.63622284  35.52046967 -69.78063965]\n",
      " [  6.21986008  44.22465134 -64.82303619]\n",
      " ...\n",
      " [-22.12651634  31.28466606 -87.37570953]\n",
      " [-13.91188431  25.4865818  -86.25827026]\n",
      " [ -5.27768707  23.36245346 -81.43279266]]\n",
      "[[   0   12   13]\n",
      " [   0   13    1]\n",
      " [   1   13   14]\n",
      " ...\n",
      " [1438   11 1439]\n",
      " [1439   11    0]\n",
      " [1439    0 1428]]\n"
     ]
    }
   ],
   "source": [
    "print(\"Testing mesh in Open3d\")\n",
    "mesh = read_triangle_mesh(\"knot.ply\")\n",
    "print(mesh)\n",
    "print(np.asarray(mesh.vertices))\n",
    "print(np.asarray(mesh.triangles))"
   ]
  },
  {
   "cell_type": "code",
   "execution_count": 3,
   "metadata": {
    "collapsed": false
   },
   "outputs": [
    {
     "name": "stdout",
     "output_type": "stream",
     "text": [
      "Try to render a mesh with normals (exist: False) and colors (exist: False)\n"
     ]
    }
   ],
   "source": [
    " print(\"Try to render a mesh with normals (exist: \" +\n",
    "            str(mesh.has_vertex_normals()) +\n",
    "            \") and colors (exist: \" + str(mesh.has_vertex_colors()) + \")\")"
   ]
  },
  {
   "cell_type": "code",
   "execution_count": 4,
   "metadata": {
    "collapsed": true
   },
   "outputs": [],
   "source": [
    "draw_geometries([mesh])"
   ]
  },
  {
   "cell_type": "code",
   "execution_count": 6,
   "metadata": {
    "collapsed": false
   },
   "outputs": [
    {
     "name": "stdout",
     "output_type": "stream",
     "text": [
      "Computeing normal and rendering it\n",
      "[[ 0.79164373 -0.53951444  0.28674793]\n",
      " [ 0.8319824  -0.53303008  0.15389681]\n",
      " [ 0.83488162 -0.09250101  0.54260136]\n",
      " ...\n",
      " [ 0.16269924 -0.76215917 -0.6266118 ]\n",
      " [ 0.52755226 -0.83707495 -0.14489352]\n",
      " [ 0.56778973 -0.76467734 -0.30476777]]\n"
     ]
    }
   ],
   "source": [
    "print(\"Computeing normal and rendering it\")\n",
    "mesh.compute_vertex_normals()\n",
    "print(np.asarray(mesh.triangle_normals))\n",
    "draw_geometries([mesh])"
   ]
  },
  {
   "cell_type": "code",
   "execution_count": 8,
   "metadata": {
    "collapsed": false
   },
   "outputs": [
    {
     "name": "stdout",
     "output_type": "stream",
     "text": [
      "We make a partial mesh of only the first half triangles\n"
     ]
    }
   ],
   "source": [
    "print(\"We make a partial mesh of only the first half triangles\")\n",
    "mesh1 = copy.deepcopy(mesh)\n",
    "mesh1.triangles = Vector3iVector(np.asarray(mesh1.triangles)[:len(mesh1.triangles)//2, :])\n",
    "mesh1.triangle_normals = Vector3dVector(np.asarray(mesh1.triangle_normals)[:len(mesh1.triangle_normals)//2, :])"
   ]
  },
  {
   "cell_type": "code",
   "execution_count": 9,
   "metadata": {
    "collapsed": false
   },
   "outputs": [
    {
     "name": "stdout",
     "output_type": "stream",
     "text": [
      "std::vector<Eigen::Vector3i> with 1440 elements.\n",
      "Use numpy.asarray() to access data.\n"
     ]
    }
   ],
   "source": [
    "print(mesh1.triangles)"
   ]
  },
  {
   "cell_type": "code",
   "execution_count": 10,
   "metadata": {
    "collapsed": true
   },
   "outputs": [],
   "source": [
    "draw_geometries([mesh1])"
   ]
  },
  {
   "cell_type": "code",
   "execution_count": 13,
   "metadata": {
    "collapsed": false
   },
   "outputs": [
    {
     "name": "stdout",
     "output_type": "stream",
     "text": [
      "Painting the mesh\n"
     ]
    }
   ],
   "source": [
    "print(\"Painting the mesh\")\n",
    "mesh1.paint_uniform_color([1, 0.706, 0])\n",
    "draw_geometries([mesh1])"
   ]
  },
  {
   "cell_type": "code",
   "execution_count": null,
   "metadata": {
    "collapsed": true
   },
   "outputs": [],
   "source": []
  }
 ],
 "metadata": {
  "anaconda-cloud": {},
  "kernelspec": {
   "display_name": "Python [default]",
   "language": "python",
   "name": "python3"
  },
  "language_info": {
   "codemirror_mode": {
    "name": "ipython",
    "version": 3
   },
   "file_extension": ".py",
   "mimetype": "text/x-python",
   "name": "python",
   "nbconvert_exporter": "python",
   "pygments_lexer": "ipython3",
   "version": "3.5.2"
  }
 },
 "nbformat": 4,
 "nbformat_minor": 1
}
