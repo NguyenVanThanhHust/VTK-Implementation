{
 "cells": [
  {
   "cell_type": "code",
   "execution_count": 1,
   "metadata": {},
   "outputs": [],
   "source": [
    "import numpy as np\n",
    "from open3d import *"
   ]
  },
  {
   "cell_type": "code",
   "execution_count": null,
   "metadata": {},
   "outputs": [],
   "source": [
    "if __name__ == \"__main__\":\n",
    "    pcd = read_point_cloud(\"TestData/Feature/cloud_bin_0.pcd\")\n",
    "    pcd.paint_uniform_color([0.3,0.3,0.5])\n",
    "    pcd_tree = KDTreeFlann(pcd)\n",
    "    \n",
    "    print(\"Paint the 1500th point red.\")\n",
    "    pcd.colors[100] = [1, 0, 0]\n",
    "    \n",
    "    print(\"Find its 200 nearest neightbor, paint blue\")\n",
    "    [k, idx, _] = pcd_tree.search_knn_vector_3d(pcd.points[100], 200)\n",
    "    np.asarray(pcd.colors)[idx[1:],:] = [0,1,0]\n",
    "    \n",
    "    print(\"Find its neighbors with distance less than 0.2, paint green.\")\n",
    "    [k, idx, _] = pcd_tree.search_radius_vector_3d(pcd.points[100], 0.2)\n",
    "    np.asarray(pcd.colors)[idx[1:], :] = [0, 1, 0]\n",
    "    \n",
    "    draw_geometries([pcd])"
   ]
  },
  {
   "cell_type": "code",
   "execution_count": null,
   "metadata": {},
   "outputs": [],
   "source": []
  }
 ],
 "metadata": {
  "kernelspec": {
   "display_name": "Python 3",
   "language": "python",
   "name": "python3"
  },
  "language_info": {
   "codemirror_mode": {
    "name": "ipython",
    "version": 3
   },
   "file_extension": ".py",
   "mimetype": "text/x-python",
   "name": "python",
   "nbconvert_exporter": "python",
   "pygments_lexer": "ipython3",
   "version": "3.6.5"
  }
 },
 "nbformat": 4,
 "nbformat_minor": 2
}
