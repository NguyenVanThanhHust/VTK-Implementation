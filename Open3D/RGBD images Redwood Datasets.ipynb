{
 "cells": [
  {
   "cell_type": "code",
   "execution_count": 1,
   "metadata": {},
   "outputs": [],
   "source": [
    "from open3d import *\n",
    "import matplotlib.pyplot as plt"
   ]
  },
  {
   "cell_type": "code",
   "execution_count": null,
   "metadata": {},
   "outputs": [],
   "source": [
    "from open3d import *\n",
    "import numpy as np\n",
    "import matplotlib.pyplot as plt\n",
    "\n",
    "if __name__ == \"__main__\":\n",
    "    pinhole_camera_intrinsic = read_pinhole_camera_intrinsic(\n",
    "            \"/TestData/camera_primesense.json\")\n",
    "    print(pinhole_camera_intrinsic.intrinsic_matrix)\n",
    "    source_color = read_image(\"/TestData/RGBD/color/00000.jpg\")\n",
    "    plt.show(source)\n",
    "    "
   ]
  },
  {
   "cell_type": "code",
   "execution_count": null,
   "metadata": {},
   "outputs": [],
   "source": [
    "    source_color = read_image(\"/TestData/RGBD/color/00000.jpg\")\n",
    "    source_depth = read_image(\"/TestData/RGBD/depth/00000.png\")\n",
    "    target_color = read_image(\"/TestData/RGBD/color/00001.jpg\")\n",
    "    target_depth = read_image(\"/TestData/RGBD/depth/00001.png\")\n",
    "    source_rgbd_image = create_rgbd_image_from_color_and_depth(\n",
    "            source_color, source_depth)\n",
    "    target_rgbd_image = create_rgbd_image_from_color_and_depth(\n",
    "            target_color, target_depth)\n",
    "    target_pcd = create_point_cloud_from_rgbd_image(\n",
    "            target_rgbd_image, pinhole_camera_intrinsic)\n",
    "\n",
    "    option = OdometryOption()\n",
    "    odo_init = np.identity(4)\n",
    "    print(option)\n",
    "\n",
    "    [success_color_term, trans_color_term, info] = compute_rgbd_odometry(\n",
    "            source_rgbd_image, target_rgbd_image,\n",
    "            pinhole_camera_intrinsic, odo_init,\n",
    "            RGBDOdometryJacobianFromColorTerm(), option)\n",
    "    [success_hybrid_term, trans_hybrid_term, info] = compute_rgbd_odometry(\n",
    "            source_rgbd_image, target_rgbd_image,\n",
    "            pinhole_camera_intrinsic, odo_init,\n",
    "            RGBDOdometryJacobianFromHybridTerm(), option)\n",
    "\n",
    "    if success_color_term:\n",
    "        print(\"Using RGB-D Odometry\")\n",
    "        print(trans_color_term)\n",
    "        source_pcd_color_term = create_point_cloud_from_rgbd_image(\n",
    "                source_rgbd_image, pinhole_camera_intrinsic)\n",
    "        source_pcd_color_term.transform(trans_color_term)\n",
    "        draw_geometries([target_pcd, source_pcd_color_term])\n",
    "    if success_hybrid_term:\n",
    "        print(\"Using Hybrid RGB-D Odometry\")\n",
    "        print(trans_hybrid_term)\n",
    "        source_pcd_hybrid_term = create_point_cloud_from_rgbd_image(\n",
    "                source_rgbd_image, pinhole_camera_intrinsic)\n",
    "        source_pcd_hybrid_term.transform(trans_hybrid_term)\n",
    "        draw_geometries([target_pcd, source_pcd_hybrid_term])"
   ]
  },
  {
   "cell_type": "code",
   "execution_count": null,
   "metadata": {},
   "outputs": [],
   "source": []
  }
 ],
 "metadata": {
  "kernelspec": {
   "display_name": "Python 3",
   "language": "python",
   "name": "python3"
  },
  "language_info": {
   "codemirror_mode": {
    "name": "ipython",
    "version": 3
   },
   "file_extension": ".py",
   "mimetype": "text/x-python",
   "name": "python",
   "nbconvert_exporter": "python",
   "pygments_lexer": "ipython3",
   "version": "3.6.5"
  }
 },
 "nbformat": 4,
 "nbformat_minor": 2
}
