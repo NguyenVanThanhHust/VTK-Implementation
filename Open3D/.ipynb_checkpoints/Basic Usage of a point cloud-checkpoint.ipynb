{
 "cells": [
  {
   "cell_type": "code",
   "execution_count": 1,
   "metadata": {
    "collapsed": true
   },
   "outputs": [],
   "source": [
    "import numpy as np\n",
    "from open3d import *"
   ]
  },
  {
   "cell_type": "code",
   "execution_count": 4,
   "metadata": {
    "collapsed": false
   },
   "outputs": [
    {
     "name": "stdout",
     "output_type": "stream",
     "text": [
      "Load o ply point cloud, print it and render it\n",
      "PointCloud with 196133 points.\n",
      "[[0.65234375 0.84686458 2.37890625]\n",
      " [0.65234375 0.83984375 2.38430572]\n",
      " [0.66737998 0.83984375 2.37890625]\n",
      " ...\n",
      " [2.00839925 2.39453125 1.88671875]\n",
      " [2.00390625 2.39488506 1.88671875]\n",
      " [2.00390625 2.39453125 1.88793314]]\n"
     ]
    }
   ],
   "source": [
    "print(\"Load o ply point cloud, print it and render it\")\n",
    "pcd = read_point_cloud(\"fragment.ply\")\n",
    "print(pcd)\n",
    "print(np.asarray(pcd.points))\n",
    "draw_geometries([pcd])  "
   ]
  },
  {
   "cell_type": "code",
   "execution_count": 5,
   "metadata": {
    "collapsed": false
   },
   "outputs": [
    {
     "name": "stdout",
     "output_type": "stream",
     "text": [
      "Downsample the point cloud with a voxel of 0.05\n"
     ]
    }
   ],
   "source": [
    "print(\"Downsample the point cloud with a voxel of 0.05\")\n",
    "downpcd = voxel_down_sample(pcd, voxel_size = 0.05)\n",
    "draw_geometries([downpcd])   "
   ]
  },
  {
   "cell_type": "code",
   "execution_count": 6,
   "metadata": {
    "collapsed": false
   },
   "outputs": [
    {
     "name": "stdout",
     "output_type": "stream",
     "text": [
      "Recompute the normal of the downsampled point cloud\n"
     ]
    }
   ],
   "source": [
    "print(\"Recompute the normal of the downsampled point cloud\")\n",
    "estimate_normals(downpcd, search_param = KDTreeSearchParamHybrid(radius = 0.1, max_nn = 30))\n",
    "draw_geometries([downpcd])   "
   ]
  },
  {
   "cell_type": "code",
   "execution_count": 8,
   "metadata": {
    "collapsed": false
   },
   "outputs": [
    {
     "name": "stdout",
     "output_type": "stream",
     "text": [
      "Normal vector of the 0th point\n",
      "[ 0.85641574  0.01693013 -0.51600915]\n",
      "Print normal vector for first 10 points\n",
      "[[ 8.56415744e-01  1.69301342e-02 -5.16009150e-01]\n",
      " [-3.10071169e-01  3.92564590e-02 -9.49902522e-01]\n",
      " [-2.21066308e-01  2.07235365e-07 -9.75258780e-01]\n",
      " [-2.65577574e-01 -1.84601949e-01 -9.46250851e-01]\n",
      " [-7.91944115e-01 -2.92017206e-02 -6.09894891e-01]\n",
      " [-8.84912237e-02 -9.89400811e-01  1.15131831e-01]\n",
      " [ 6.28492508e-01 -6.12988948e-01 -4.78791935e-01]\n",
      " [ 7.28260110e-01 -4.73518839e-01 -4.95395924e-01]\n",
      " [-5.07368635e-03 -9.99572767e-01 -2.87844085e-02]\n",
      " [ 3.49295119e-01  1.16948013e-02 -9.36939780e-01]]\n"
     ]
    }
   ],
   "source": [
    "print(\"Normal vector of the 0th point\")\n",
    "print(downpcd.normals[0])\n",
    "print(\"Print normal vector for first 10 points\")\n",
    "print(np.asarray(downpcd.normals)[:10,:]) "
   ]
  },
  {
   "cell_type": "code",
   "execution_count": 9,
   "metadata": {
    "collapsed": false
   },
   "outputs": [
    {
     "name": "stdout",
     "output_type": "stream",
     "text": [
      "Load a polygon volume and use it to crop the original cloud\n"
     ]
    }
   ],
   "source": [
    "print(\"Load a polygon volume and use it to crop the original cloud\")\n",
    "vol = read_selection_polygon_volume(\"cropped.json\")\n",
    "chair = vol.crop_point_cloud(pcd)\n",
    "draw_geometries([chair]) "
   ]
  },
  {
   "cell_type": "code",
   "execution_count": 10,
   "metadata": {
    "collapsed": false
   },
   "outputs": [
    {
     "name": "stdout",
     "output_type": "stream",
     "text": [
      "Paint chair\n"
     ]
    }
   ],
   "source": [
    "print(\"Paint chair\")\n",
    "chair.paint_uniform_color([1, 0.706, 0])\n",
    "draw_geometries([chair])"
   ]
  },
  {
   "cell_type": "code",
   "execution_count": null,
   "metadata": {
    "collapsed": true
   },
   "outputs": [],
   "source": []
  }
 ],
 "metadata": {
  "kernelspec": {
   "display_name": "Python [conda root]",
   "language": "python",
   "name": "conda-root-py"
  },
  "language_info": {
   "codemirror_mode": {
    "name": "ipython",
    "version": 3
   },
   "file_extension": ".py",
   "mimetype": "text/x-python",
   "name": "python",
   "nbconvert_exporter": "python",
   "pygments_lexer": "ipython3",
   "version": "3.5.2"
  }
 },
 "nbformat": 4,
 "nbformat_minor": 1
}
