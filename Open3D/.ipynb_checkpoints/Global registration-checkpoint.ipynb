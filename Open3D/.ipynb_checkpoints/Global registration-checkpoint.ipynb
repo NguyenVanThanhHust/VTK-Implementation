{
 "cells": [
  {
   "cell_type": "code",
   "execution_count": 1,
   "metadata": {},
   "outputs": [],
   "source": [
    "from open3d import *\n",
    "import numpy as np\n",
    "import copy"
   ]
  },
  {
   "cell_type": "markdown",
   "metadata": {},
   "source": [
    "draw result"
   ]
  },
  {
   "cell_type": "code",
   "execution_count": 15,
   "metadata": {},
   "outputs": [],
   "source": [
    "def draw_registration_result(source, target, transformation):\n",
    "    source_temp = copy.deepcopy(source)\n",
    "    target_temp = copy.deepcopy(target)\n",
    "    source_temp.paint_uniform_color([1.0, 0.5, 0.5])\n",
    "    target_temp.paint_uniform_color([0.3, 0.3, 0.3])\n",
    "    source_temp.transform(transformation)\n",
    "    draw_geometries([source_temp, target_temp])"
   ]
  },
  {
   "cell_type": "markdown",
   "metadata": {},
   "source": [
    "find the normal vector of pcd_down with KDTreeeSearchParamHybrid"
   ]
  },
  {
   "cell_type": "code",
   "execution_count": 23,
   "metadata": {},
   "outputs": [],
   "source": [
    "def preprocess_point_cloud(pcd, voxel_size):\n",
    "    #download sample voxel size\n",
    "    pcd_down = voxel_down_sample(pcd, voxel_size)\n",
    "    \n",
    "    #Estimate normal with search radius\n",
    "    radius_normal = voxel_size * 2\n",
    "    estimate_normals(pcd_down, KDTreeSearchParamHybrid(radius = radius_normal, max_nn = 30))\n",
    "    radius_feature = voxel_size * 3\n",
    "    pcd_fpfh = compute_fpfh_feature(pcd_down, KDTreeSearchParamHybrid(radius = radius_feature, max_nn = 100))\n",
    "    return pcd_down, pcd_fpfh"
   ]
  },
  {
   "cell_type": "markdown",
   "metadata": {},
   "source": []
  },
  {
   "cell_type": "code",
   "execution_count": 13,
   "metadata": {},
   "outputs": [],
   "source": [
    "def prepare_dataset(voxel_size):\n",
    "    source = read_point_cloud(\"TestData/ICP/cloud_bin_0.pcd\")\n",
    "    target = read_point_cloud(\"TestData/ICP/cloud_bin_1.pcd\")\n",
    "    trans_init = np.asarray([[0.0, 0.0, 1.0, 0.0],\n",
    "                           [1.0, 0.0, 0.0, 0.0],\n",
    "                           [0.0, 1.0, 0.0, 0.0],\n",
    "                           [0.0, 0.0, 0.0, 1.0]])\n",
    "    \n",
    "    source.transform(trans_init)\n",
    "    draw_registration_result(source, target, np.identity(4))\n",
    "    source_down, source_fpfh = preprocess_point_cloud(source, voxel_size)\n",
    "    target_down, target_fpfh = preprocess_point_cloud(target, voxel_size)\n",
    "    return source, target, source_down, target_down, source_fpfh, target_fpfh"
   ]
  },
  {
   "cell_type": "markdown",
   "metadata": {},
   "source": [
    "Use RANSAC for global registration"
   ]
  },
  {
   "cell_type": "code",
   "execution_count": 8,
   "metadata": {},
   "outputs": [],
   "source": [
    "def execute_global_registration(source_down, target_down,\n",
    "                               source_fpfh, target_fpfh, \n",
    "                               voxel):\n",
    "    distance_threshold = voxel_size * 1.5\n",
    "    result = registration_ransac_based_on_feature_matching(\n",
    "    source_down, target_down, source_fpfh, target_fpfh,\n",
    "    distance_threshold,\n",
    "    TransformationEstimationPointToPoint(False),4,\n",
    "    [CorrespondenceCheckerBasedOnEdgeLength(0.9),\n",
    "    CorrespondenceCheckerBasedOnDistance(distance_threshold)],\n",
    "    RANSACConvergenceCriteria(4000000, 500)\n",
    "    )\n",
    "    return result"
   ]
  },
  {
   "cell_type": "code",
   "execution_count": 9,
   "metadata": {},
   "outputs": [],
   "source": [
    "def refine_registration(source, target, source_fpfh, target_fpfh, voxel_size):\n",
    "    distance_threshold = voxel_size * 0.4\n",
    "    print(\":: Point-to-plane ICP registration is applied on original point\")\n",
    "    print(\"   clouds to refine the alignment. This time we use a strict\")\n",
    "    print(\"   distance threshold %.3f.\" % distance_threshold)\n",
    "    result = registration_icp(source, target, distance_threshold,\n",
    "            result_ransac.transformation,\n",
    "            TransformationEstimationPointToPlane())\n",
    "    return result"
   ]
  },
  {
   "cell_type": "code",
   "execution_count": 24,
   "metadata": {},
   "outputs": [
    {
     "name": "stdout",
     "output_type": "stream",
     "text": [
      "RegistrationResult with fitness = 0.675630, inlier_rmse = 0.031491, and correspondence_set size of 3216\n",
      "Access transformation to get result.\n",
      ":: Point-to-plane ICP registration is applied on original point\n",
      "   clouds to refine the alignment. This time we use a strict\n",
      "   distance threshold 0.020.\n",
      "RegistrationResult with fitness = 0.621027, inlier_rmse = 0.006565, and correspondence_set size of 123482\n",
      "Access transformation to get result.\n"
     ]
    }
   ],
   "source": [
    "if __name__ == \"__main__\":\n",
    "    voxel_size = 0.05\n",
    "    source, target, source_down, target_down, source_fpfh, target_fpfh = \\\n",
    "            prepare_dataset(voxel_size)\n",
    "\n",
    "    result_ransac = execute_global_registration(source_down, target_down,\n",
    "            source_fpfh, target_fpfh, voxel_size)\n",
    "    print(result_ransac)\n",
    "    draw_registration_result(source_down, target_down,\n",
    "            result_ransac.transformation)\n",
    "\n",
    "    result_icp = refine_registration(source, target,\n",
    "            source_fpfh, target_fpfh, voxel_size)\n",
    "    print(result_icp)\n",
    "    draw_registration_result(source, target, result_icp.transformation)"
   ]
  },
  {
   "cell_type": "code",
   "execution_count": null,
   "metadata": {},
   "outputs": [],
   "source": []
  }
 ],
 "metadata": {
  "kernelspec": {
   "display_name": "Python 3",
   "language": "python",
   "name": "python3"
  },
  "language_info": {
   "codemirror_mode": {
    "name": "ipython",
    "version": 3
   },
   "file_extension": ".py",
   "mimetype": "text/x-python",
   "name": "python",
   "nbconvert_exporter": "python",
   "pygments_lexer": "ipython3",
   "version": "3.6.5"
  }
 },
 "nbformat": 4,
 "nbformat_minor": 2
}
