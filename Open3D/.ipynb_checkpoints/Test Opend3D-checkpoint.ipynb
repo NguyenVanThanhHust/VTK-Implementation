{
 "cells": [
  {
   "cell_type": "code",
   "execution_count": null,
   "metadata": {},
   "outputs": [],
   "source": [
    "import copy\n",
    "import numpy as np\n",
    "from open3d import *\n",
    "\n",
    "if __name__ == \"__main__\":\n",
    "\n",
    "    print(\"Testing mesh in open3d ...\")\n",
    "    mesh = read_triangle_mesh(\"carburator.ply\")\n",
    "    print(mesh)\n",
    "    print(np.asarray(mesh.vertices))\n",
    "    print(np.asarray(mesh.triangles))\n",
    "    print(\"\")\n",
    "\n",
    "    print(\"Try to render a mesh with normals (exist: \" +\n",
    "            str(mesh.has_vertex_normals()) +\n",
    "            \") and colors (exist: \" + str(mesh.has_vertex_colors()) + \")\")\n",
    "    draw_geometries([mesh])\n",
    "    print(\"A mesh with no normals and no colors does not seem good.\")\n",
    "\n",
    "    print(\"Computing normal and rendering it.\")\n",
    "    mesh.compute_vertex_normals()\n",
    "    print(np.asarray(mesh.triangle_normals))\n",
    "    draw_geometries([mesh])\n",
    "\n",
    "    print(\"We make a partial mesh of only the first half triangles.\")\n",
    "    mesh1 = copy.deepcopy(mesh)\n",
    "    mesh1.triangles = Vector3iVector(\n",
    "            np.asarray(mesh1.triangles)[:len(mesh1.triangles)//2, :])\n",
    "    mesh1.triangle_normals = Vector3dVector(\n",
    "            np.asarray(mesh1.triangle_normals)\n",
    "            [:len(mesh1.triangle_normals)//2, :])\n",
    "    print(mesh1.triangles)\n",
    "    draw_geometries([mesh1])\n",
    "\n",
    "    print(\"Painting the mesh\")\n",
    "    mesh1.paint_uniform_color([1, 0.706, 0])\n",
    "    draw_geometries([mesh1])"
   ]
  },
  {
   "cell_type": "code",
   "execution_count": null,
   "metadata": {},
   "outputs": [],
   "source": [
    " print(\"Testing mesh in open3d ...\")\n",
    "    mesh = read_triangle_mesh(\"carburator.ply\")\n",
    "    print(mesh)\n",
    "    print(np.asarray(mesh.vertices))\n",
    "    print(np.asarray(mesh.triangles))"
   ]
  },
  {
   "cell_type": "code",
   "execution_count": null,
   "metadata": {
    "collapsed": true
   },
   "outputs": [],
   "source": []
  }
 ],
 "metadata": {
  "anaconda-cloud": {},
  "kernelspec": {
   "display_name": "Python 3",
   "language": "python",
   "name": "python3"
  },
  "language_info": {
   "codemirror_mode": {
    "name": "ipython",
    "version": 3
   },
   "file_extension": ".py",
   "mimetype": "text/x-python",
   "name": "python",
   "nbconvert_exporter": "python",
   "pygments_lexer": "ipython3",
   "version": "3.6.5"
  }
 },
 "nbformat": 4,
 "nbformat_minor": 1
}
