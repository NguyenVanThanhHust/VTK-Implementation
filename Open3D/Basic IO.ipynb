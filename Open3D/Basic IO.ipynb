{
 "cells": [
  {
   "cell_type": "code",
   "execution_count": 1,
   "metadata": {
    "collapsed": true
   },
   "outputs": [],
   "source": [
    "from open3d import *"
   ]
  },
  {
   "cell_type": "code",
   "execution_count": 4,
   "metadata": {
    "collapsed": false
   },
   "outputs": [
    {
     "name": "stdout",
     "output_type": "stream",
     "text": [
      "Testing Point Cloud...\n",
      "PointCloud with 131622 points.\n",
      "Testing Mesh...\n",
      "TriangleMesh with 251320 points and 500000 triangles.\n",
      "Testing image...\n",
      "Image of size 223x226, with 3 channels.\n",
      "Use numpy.asarray to access buffer data.\n"
     ]
    }
   ],
   "source": [
    "if __name__ == \"__main__\":\n",
    "    print(\"Testing Point Cloud...\")\n",
    "    pcd = read_point_cloud(\"CSite1_red2-utm.pcd\")\n",
    "    print(pcd)\n",
    "    write_point_cloud(\"Copy_pcd\", pcd)\n",
    "    \n",
    "    print(\"Testing Mesh...\")\n",
    "    mesh = read_triangle_mesh(\"carburator.ply\")\n",
    "    print(mesh)\n",
    "    write_triangle_mesh(\"copy_mesh.ply\", mesh)\n",
    "    \n",
    "    print(\"Testing image...\")\n",
    "    img = read_image(\"cubic.jpg\")\n",
    "    print(img)\n",
    "    write_image(\"copy_img.jpg\", img)"
   ]
  },
  {
   "cell_type": "code",
   "execution_count": null,
   "metadata": {
    "collapsed": true
   },
   "outputs": [],
   "source": []
  }
 ],
 "metadata": {
  "kernelspec": {
   "display_name": "Python [conda root]",
   "language": "python",
   "name": "conda-root-py"
  },
  "language_info": {
   "codemirror_mode": {
    "name": "ipython",
    "version": 3
   },
   "file_extension": ".py",
   "mimetype": "text/x-python",
   "name": "python",
   "nbconvert_exporter": "python",
   "pygments_lexer": "ipython3",
   "version": "3.5.2"
  }
 },
 "nbformat": 4,
 "nbformat_minor": 1
}
