{
 "cells": [
  {
   "cell_type": "code",
   "execution_count": 1,
   "metadata": {},
   "outputs": [],
   "source": [
    "import numpy as np\n",
    "from open3d import *"
   ]
  },
  {
   "cell_type": "code",
   "execution_count": 2,
   "metadata": {},
   "outputs": [
    {
     "name": "stdout",
     "output_type": "stream",
     "text": [
      "Load a ply point cloud, print it and render it\n"
     ]
    }
   ],
   "source": [
    "if __name__ == \"__main__\":\n",
    "    print(\"Load a ply point cloud, print it and render it\")\n",
    "    pcd = read_point_cloud(\"TestData/fragment.ply\")\n",
    "    draw_geometries([pcd])"
   ]
  },
  {
   "cell_type": "markdown",
   "metadata": {},
   "source": [
    "Draw some premitives"
   ]
  },
  {
   "cell_type": "code",
   "execution_count": 4,
   "metadata": {},
   "outputs": [],
   "source": [
    "mesh_sphere = create_mesh_sphere(radius = 1.0)\n",
    "mesh_sphere.compute_vertex_normals()\n",
    "mesh_sphere.paint_uniform_color([0.1, 0.1, 0.7])\n",
    "draw_geometries([mesh_sphere])"
   ]
  },
  {
   "cell_type": "code",
   "execution_count": 11,
   "metadata": {},
   "outputs": [],
   "source": [
    "mesh_cylinder = create_mesh_cylinder(radius = 0.3, height = 4.0)\n",
    "mesh_cylinder.compute_vertex_normals()\n",
    "mesh_cylinder.paint_uniform_color([0.1, 0.1, 0.7])\n",
    "draw_geometries([mesh_cylinder])"
   ]
  },
  {
   "cell_type": "code",
   "execution_count": 12,
   "metadata": {},
   "outputs": [],
   "source": [
    "mesh_frame = create_mesh_coordinate_frame(size = 0.0, origin = [0,0,0])\n",
    "draw_geometries([mesh_frame, mesh_sphere, mesh_cylinder])"
   ]
  },
  {
   "cell_type": "code",
   "execution_count": 13,
   "metadata": {},
   "outputs": [],
   "source": [
    "draw_geometries([mesh_sphere + mesh_cylinder + mesh_frame])"
   ]
  },
  {
   "cell_type": "code",
   "execution_count": 14,
   "metadata": {},
   "outputs": [
    {
     "name": "stdout",
     "output_type": "stream",
     "text": [
      "Let's draw a cubic that consists of 8 points and 12 lines\n"
     ]
    }
   ],
   "source": [
    "    print(\"Let\\'s draw a cubic that consists of 8 points and 12 lines\")\n",
    "    points = [[0,0,0],[1,0,0],[0,1,0],[1,1,0],\n",
    "              [0,0,1],[1,0,1],[0,1,1],[1,1,1]]\n",
    "    lines = [[0,1],[0,2],[1,3],[2,3],\n",
    "             [4,5],[4,6],[5,7],[6,7],\n",
    "             [0,4],[1,5],[2,6],[3,7]]\n",
    "    colors = [[1, 0, 0] for i in range(len(lines))]\n",
    "    line_set = LineSet()\n",
    "    line_set.points = Vector3dVector(points)\n",
    "    line_set.lines = Vector2iVector(lines)\n",
    "    line_set.colors = Vector3dVector(colors)\n",
    "    draw_geometries([line_set])"
   ]
  },
  {
   "cell_type": "code",
   "execution_count": null,
   "metadata": {},
   "outputs": [],
   "source": []
  }
 ],
 "metadata": {
  "kernelspec": {
   "display_name": "Python 3",
   "language": "python",
   "name": "python3"
  },
  "language_info": {
   "codemirror_mode": {
    "name": "ipython",
    "version": 3
   },
   "file_extension": ".py",
   "mimetype": "text/x-python",
   "name": "python",
   "nbconvert_exporter": "python",
   "pygments_lexer": "ipython3",
   "version": "3.6.5"
  }
 },
 "nbformat": 4,
 "nbformat_minor": 2
}
